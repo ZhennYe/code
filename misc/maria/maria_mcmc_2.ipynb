{
 "metadata": {
  "name": "",
  "signature": "sha256:5f85eae248c6d460fe76e7dc89902f0aaaa5c763f589931fbdbf8ad2d80d0597"
 },
 "nbformat": 3,
 "nbformat_minor": 0,
 "worksheets": [
  {
   "cells": [
    {
     "cell_type": "code",
     "collapsed": false,
     "input": [
      "# Imports\n",
      "%matplotlib inline\n",
      "import numpy as np\n",
      "import matplotlib.pyplot as plt\n",
      "import pandas as pd\n",
      "import pymc as pm\n",
      "import statsmodels.api as sm"
     ],
     "language": "python",
     "metadata": {},
     "outputs": [],
     "prompt_number": 1
    },
    {
     "cell_type": "code",
     "collapsed": false,
     "input": [
      "# Load \n",
      "f = pd.read_csv('/home/alex/Dropbox/misc/15414007_props.csv')\n",
      "f.hist('times', bins=50)\n",
      "f.hist('intervals', bins=50)"
     ],
     "language": "python",
     "metadata": {},
     "outputs": [
      {
       "metadata": {},
       "output_type": "pyout",
       "prompt_number": 2,
       "text": [
        "array([[<matplotlib.axes.AxesSubplot object at 0x7f5263a6bb90>]], dtype=object)"
       ]
      },
      {
       "metadata": {},
       "output_type": "display_data",
       "png": "[encoded data removed]",
       "text": [
        "<matplotlib.figure.Figure at 0x7f5263bcdad0>"
       ]
      },
      {
       "metadata": {},
       "output_type": "display_data",
       "png": "[encoded data removed]",
       "text": [
        "<matplotlib.figure.Figure at 0x7f5263b79850>"
       ]
      }
     ],
     "prompt_number": 2
    },
    {
     "cell_type": "markdown",
     "metadata": {},
     "source": [
      "## Peaks, smoothing\n",
      "\n",
      "We want to find the values (bin-centers) of the potential peaks, we'll use these to set the priors for the MCMC processes. We should make sure we don't find > 2 peaks, otherwise something wierd happened. "
     ]
    },
    {
     "cell_type": "code",
     "collapsed": false,
     "input": [
      "def savitzky_golay(y, window_size, order, deriv=0, rate=1):\n",
      "    r\"\"\"Smooth (and optionally differentiate) data with a Savitzky-Golay filter.\n",
      "    The Savitzky-Golay filter removes high frequency noise from data.\n",
      "    It has the advantage of preserving the original shape and\n",
      "    features of the signal better than other types of filtering\n",
      "    approaches, such as moving averages techniques.\n",
      "    Parameters\n",
      "    ----------\n",
      "    y : array_like, shape (N,)\n",
      "        the values of the time history of the signal.\n",
      "    window_size : int\n",
      "        the length of the window. Must be an odd integer number.\n",
      "    order : int\n",
      "        the order of the polynomial used in the filtering.\n",
      "        Must be less then `window_size` - 1.\n",
      "    deriv: int\n",
      "        the order of the derivative to compute (default = 0 means only smoothing)\n",
      "    Returns\n",
      "    -------\n",
      "    ys : ndarray, shape (N)\n",
      "        the smoothed signal (or it's n-th derivative).\n",
      "    Notes\n",
      "    -----\n",
      "    The Savitzky-Golay is a type of low-pass filter, particularly\n",
      "    suited for smoothing noisy data. The main idea behind this\n",
      "    approach is to make for each point a least-square fit with a\n",
      "    polynomial of high order over a odd-sized window centered at\n",
      "    the point.\n",
      "    Examples\n",
      "    --------\n",
      "    t = np.linspace(-4, 4, 500)\n",
      "    y = np.exp( -t**2 ) + np.random.normal(0, 0.05, t.shape)\n",
      "    ysg = savitzky_golay(y, window_size=31, order=4)\n",
      "    import matplotlib.pyplot as plt\n",
      "    plt.plot(t, y, label='Noisy signal')\n",
      "    plt.plot(t, np.exp(-t**2), 'k', lw=1.5, label='Original signal')\n",
      "    plt.plot(t, ysg, 'r', label='Filtered signal')\n",
      "    plt.legend()\n",
      "    plt.show()\n",
      "    References\n",
      "    ----------\n",
      "    .. [1] A. Savitzky, M. J. E. Golay, Smoothing and Differentiation of\n",
      "       Data by Simplified Least Squares Procedures. Analytical\n",
      "       Chemistry, 1964, 36 (8), pp 1627-1639.\n",
      "    .. [2] Numerical Recipes 3rd Edition: The Art of Scientific Computing\n",
      "       W.H. Press, S.A. Teukolsky, W.T. Vetterling, B.P. Flannery\n",
      "       Cambridge University Press ISBN-13: 9780521880688\n",
      "    \"\"\"\n",
      "    import numpy as np\n",
      "    from math import factorial\n",
      "    \n",
      "    try:\n",
      "        window_size = np.abs(np.int(window_size))\n",
      "        order = np.abs(np.int(order))\n",
      "    except ValueError, msg:\n",
      "        raise ValueError(\"window_size and order have to be of type int\")\n",
      "    if window_size % 2 != 1 or window_size < 1:\n",
      "        raise TypeError(\"window_size size must be a positive odd number\")\n",
      "    if window_size < order + 2:\n",
      "        raise TypeError(\"window_size is too small for the polynomials order\")\n",
      "    order_range = range(order+1)\n",
      "    half_window = (window_size -1) // 2\n",
      "    # precompute coefficients\n",
      "    b = np.mat([[k**i for i in order_range] for k in range(-half_window, half_window+1)])\n",
      "    m = np.linalg.pinv(b).A[deriv] * rate**deriv * factorial(deriv)\n",
      "    # pad the signal at the extremes with\n",
      "    # values taken from the signal itself\n",
      "    firstvals = y[0] - np.abs( y[1:half_window+1][::-1] - y[0] )\n",
      "    lastvals = y[-1] + np.abs(y[-half_window-1:-1][::-1] - y[-1])\n",
      "    y = np.concatenate((firstvals, y, lastvals))\n",
      "    return np.convolve( m[::-1], y, mode='valid')"
     ],
     "language": "python",
     "metadata": {},
     "outputs": [],
     "prompt_number": 3
    },
    {
     "cell_type": "code",
     "collapsed": false,
     "input": [
      "# We'd like to find how many peaks are in this distribution\n",
      "# Can assume that it will either be all-tonic, all-burst, or mixed, \n",
      "#  so Npeaks = {1,2}, but not >2\n",
      "\n",
      "# Let's find out how many peaks\n",
      "int_data = f.intervals.dropna()\n",
      "hist, bin_e = np.histogram(int_data, bins=50)\n",
      "bin_cents = (bin_e[:-1]+bin_e[1:])*.5\n",
      "\n",
      "histhat = savitzky_golay(hist, 11, 3)\n",
      "\n",
      "# Find the peaks for the dist\n",
      "def whichPeaks(trace):\n",
      "    peaks = []\n",
      "    df = np.diff(trace)\n",
      "    for t in range(len(df)-4):\n",
      "        if df[t] > 0 and df[t+1] > 0:\n",
      "            if df[t+2] < 0 and df[t+3] < 0: # Potential peak\n",
      "                if trace[t+2] > np.mean(trace):\n",
      "                    peaks.append([t+2, trace[t+2]])\n",
      "    return peaks\n",
      "\n",
      "\n",
      "pks = whichPeaks(histhat)\n",
      "print(pks)\n",
      "print(np.mean(histhat))\n",
      "plt.plot(bin_cents, histhat)\n",
      "print([bin_cents[p[0]] for p in pks])"
     ],
     "language": "python",
     "metadata": {},
     "outputs": [
      {
       "output_type": "stream",
       "stream": "stdout",
       "text": [
        "[[7, 177.17249417249411], [23, 50.181818181818144]]\n",
        "32.7008857809\n",
        "[67.327804999999984, 204.70850899999996]\n"
       ]
      },
      {
       "metadata": {},
       "output_type": "display_data",
       "png": "[encoded data removed]",
       "text": [
        "<matplotlib.figure.Figure at 0x7f525a171d50>"
       ]
      }
     ],
     "prompt_number": 66
    },
    {
     "cell_type": "markdown",
     "metadata": {},
     "source": [
      "## MCMC\n",
      "\n",
      "Those are pretty close to the actual peak locations. We'll use these peak values as the priors.\n",
      "\n",
      "The MCMC process will use a stochastic categorical function to assign each value to distribution 0 or 1; these will have means based on the peak values found above."
     ]
    },
    {
     "cell_type": "code",
     "collapsed": false,
     "input": [
      "type(hist)"
     ],
     "language": "python",
     "metadata": {},
     "outputs": [
      {
       "metadata": {},
       "output_type": "pyout",
       "prompt_number": 42,
       "text": [
        "numpy.ndarray"
       ]
      }
     ],
     "prompt_number": 42
    },
    {
     "cell_type": "code",
     "collapsed": false,
     "input": [
      "# Stochastic categorical assignment\n",
      "p = pm.Uniform('p', 0, 1)\n",
      "assignment = pm.Categorical('assignment', [p, 1-p], \n",
      "                            size=int_data.shape[0])\n",
      "print('Prior assignment with p = %.2f' %p.value)\n",
      "print(assignment.value[:10])"
     ],
     "language": "python",
     "metadata": {},
     "outputs": [
      {
       "output_type": "stream",
       "stream": "stdout",
       "text": [
        "Prior assignment with p = 0.39\n",
        "[0 1 1 1 1 0 1 1 1 1]\n"
       ]
      }
     ],
     "prompt_number": 67
    },
    {
     "cell_type": "code",
     "collapsed": false,
     "input": [
      "# Tau = the precision of the normal distribution (of the above peaks)\n",
      "# tau = 1/sigma**2\n",
      "taus = 1.0 / pm.Uniform('stds', 0, 100, size=2)**2\n",
      "# Centers are the bin_centers at the peak indices.\n",
      "# Here 'sigma' is 20, but is really tau = 1/sigma**2, so = 0.0025\n",
      "print([bin_cents[p[0]] for p in pks])\n",
      "centers = pm.Normal('centers', [bin_cents[p[0]] for p in pks], \n",
      "                    [.0025, .0025], size=2)\n",
      "\n",
      "# Deterministic functions map assignment (0,1) to a set of params,\n",
      "# either taus[0] and cents[0] or taus[1] and cents[1]\n",
      "\n",
      "@pm.deterministic\n",
      "def center_i(assignment=assignment, centers=centers):\n",
      "    return centers[assignment]\n",
      "@pm.deterministic\n",
      "def tau_i(assignment=assignment, taus=taus):\n",
      "    return taus[assignment]\n",
      "\n",
      "print('Random assignments: ', assignment.value[:10])\n",
      "print('Assigned centers: ', center_i.value[:10])\n",
      "print('Assigned precision: ', tau_i.value[:10])\n",
      "print(np.mean(assignment.value[:]))"
     ],
     "language": "python",
     "metadata": {},
     "outputs": [
      {
       "output_type": "stream",
       "stream": "stdout",
       "text": [
        "[67.327804999999984, 204.70850899999996]\n",
        "('Random assignments: ', array([0, 1, 1, 1, 1, 0, 1, 1, 1, 1]))\n",
        "('Assigned centers: ', array([  63.60604668,  203.41717136,  203.41717136,  203.41717136,\n",
        "        203.41717136,   63.60604668,  203.41717136,  203.41717136,\n",
        "        203.41717136,  203.41717136]))\n",
        "('Assigned precision: ', array([ 0.00030161,  0.00028112,  0.00028112,  0.00028112,  0.00028112,\n",
        "        0.00030161,  0.00028112,  0.00028112,  0.00028112,  0.00028112]))\n",
        "0.607099143207\n"
       ]
      }
     ],
     "prompt_number": 68
    },
    {
     "cell_type": "code",
     "collapsed": false,
     "input": [
      "# Combine it with the observations (histogram)\n",
      "# Use half-rectified yhat (histhat), all (+)\n",
      "# hhat = [i if i > 0 else 0 for i in histhat]\n",
      "observations = pm.Normal('obs', center_i, tau_i, \n",
      "                         value=int_data, \n",
      "                         observed=True)\n",
      "\n",
      "# Create the model\n",
      "model = pm.Model([p, assignment, observations, taus, centers])"
     ],
     "language": "python",
     "metadata": {},
     "outputs": [],
     "prompt_number": 69
    },
    {
     "cell_type": "code",
     "collapsed": false,
     "input": [
      "# Sometimes mcmc = pm.MCMC(model)  throws an error, presumably\n",
      "#   because pm.MCMC tries to wrap everything [] in a container,\n",
      "#   and pm.Model does the same thing.\n",
      "\n",
      "mcmc = pm.MCMC([p, assignment, observations, taus, centers])\n",
      "mcmc.sample(50000)"
     ],
     "language": "python",
     "metadata": {},
     "outputs": [
      {
       "output_type": "stream",
       "stream": "stdout",
       "text": [
        "\r",
        " [                  2%                  ] 1048 of 50000 complete in 0.5 sec"
       ]
      },
      {
       "output_type": "stream",
       "stream": "stdout",
       "text": [
        "\r",
        " [-                 4%                  ] 2124 of 50000 complete in 1.0 sec"
       ]
      },
      {
       "output_type": "stream",
       "stream": "stdout",
       "text": [
        "\r",
        " [--                6%                  ] 3207 of 50000 complete in 1.5 sec"
       ]
      },
      {
       "output_type": "stream",
       "stream": "stdout",
       "text": [
        "\r",
        " [---               8%                  ] 4289 of 50000 complete in 2.0 sec"
       ]
      },
      {
       "output_type": "stream",
       "stream": "stdout",
       "text": [
        "\r",
        " [----             10%                  ] 5377 of 50000 complete in 2.5 sec"
       ]
      },
      {
       "output_type": "stream",
       "stream": "stdout",
       "text": [
        "\r",
        " [----             12%                  ] 6464 of 50000 complete in 3.0 sec"
       ]
      },
      {
       "output_type": "stream",
       "stream": "stdout",
       "text": [
        "\r",
        " [-----            15%                  ] 7550 of 50000 complete in 3.5 sec"
       ]
      },
      {
       "output_type": "stream",
       "stream": "stdout",
       "text": [
        "\r",
        " [------           17%                  ] 8644 of 50000 complete in 4.0 sec"
       ]
      },
      {
       "output_type": "stream",
       "stream": "stdout",
       "text": [
        "\r",
        " [-------          19%                  ] 9737 of 50000 complete in 4.5 sec"
       ]
      },
      {
       "output_type": "stream",
       "stream": "stdout",
       "text": [
        "\r",
        " [--------         21%                  ] 10840 of 50000 complete in 5.0 sec"
       ]
      },
      {
       "output_type": "stream",
       "stream": "stdout",
       "text": [
        "\r",
        " [---------        23%                  ] 11945 of 50000 complete in 5.5 sec"
       ]
      },
      {
       "output_type": "stream",
       "stream": "stdout",
       "text": [
        "\r",
        " [---------        26%                  ] 13050 of 50000 complete in 6.0 sec"
       ]
      },
      {
       "output_type": "stream",
       "stream": "stdout",
       "text": [
        "\r",
        " [----------       28%                  ] 14151 of 50000 complete in 6.5 sec"
       ]
      },
      {
       "output_type": "stream",
       "stream": "stdout",
       "text": [
        "\r",
        " [-----------      30%                  ] 15259 of 50000 complete in 7.0 sec"
       ]
      },
      {
       "output_type": "stream",
       "stream": "stdout",
       "text": [
        "\r",
        " [------------     32%                  ] 16371 of 50000 complete in 7.5 sec"
       ]
      },
      {
       "output_type": "stream",
       "stream": "stdout",
       "text": [
        "\r",
        " [-------------    34%                  ] 17484 of 50000 complete in 8.0 sec"
       ]
      },
      {
       "output_type": "stream",
       "stream": "stdout",
       "text": [
        "\r",
        " [--------------   37%                  ] 18599 of 50000 complete in 8.5 sec"
       ]
      },
      {
       "output_type": "stream",
       "stream": "stdout",
       "text": [
        "\r",
        " [--------------   39%                  ] 19715 of 50000 complete in 9.0 sec"
       ]
      },
      {
       "output_type": "stream",
       "stream": "stdout",
       "text": [
        "\r",
        " [---------------  41%                  ] 20822 of 50000 complete in 9.5 sec"
       ]
      },
      {
       "output_type": "stream",
       "stream": "stdout",
       "text": [
        "\r",
        " [---------------- 43%                  ] 21937 of 50000 complete in 10.0 sec"
       ]
      },
      {
       "output_type": "stream",
       "stream": "stdout",
       "text": [
        "\r",
        " [-----------------46%                  ] 23051 of 50000 complete in 10.5 sec"
       ]
      },
      {
       "output_type": "stream",
       "stream": "stdout",
       "text": [
        "\r",
        " [-----------------48%                  ] 24167 of 50000 complete in 11.0 sec"
       ]
      },
      {
       "output_type": "stream",
       "stream": "stdout",
       "text": [
        "\r",
        " [-----------------50%                  ] 25282 of 50000 complete in 11.5 sec"
       ]
      },
      {
       "output_type": "stream",
       "stream": "stdout",
       "text": [
        "\r",
        " [-----------------52%                  ] 26394 of 50000 complete in 12.0 sec"
       ]
      },
      {
       "output_type": "stream",
       "stream": "stdout",
       "text": [
        "\r",
        " [-----------------54%                  ] 27499 of 50000 complete in 12.5 sec"
       ]
      },
      {
       "output_type": "stream",
       "stream": "stdout",
       "text": [
        "\r",
        " [-----------------57%-                 ] 28612 of 50000 complete in 13.0 sec"
       ]
      },
      {
       "output_type": "stream",
       "stream": "stdout",
       "text": [
        "\r",
        " [-----------------59%--                ] 29726 of 50000 complete in 13.5 sec"
       ]
      },
      {
       "output_type": "stream",
       "stream": "stdout",
       "text": [
        "\r",
        " [-----------------61%---               ] 30835 of 50000 complete in 14.0 sec"
       ]
      },
      {
       "output_type": "stream",
       "stream": "stdout",
       "text": [
        "\r",
        " [-----------------63%----              ] 31948 of 50000 complete in 14.5 sec"
       ]
      },
      {
       "output_type": "stream",
       "stream": "stdout",
       "text": [
        "\r",
        " [-----------------66%-----             ] 33061 of 50000 complete in 15.0 sec"
       ]
      },
      {
       "output_type": "stream",
       "stream": "stdout",
       "text": [
        "\r",
        " [-----------------68%-----             ] 34169 of 50000 complete in 15.5 sec"
       ]
      },
      {
       "output_type": "stream",
       "stream": "stdout",
       "text": [
        "\r",
        " [-----------------70%------            ] 35281 of 50000 complete in 16.0 sec"
       ]
      },
      {
       "output_type": "stream",
       "stream": "stdout",
       "text": [
        "\r",
        " [-----------------72%-------           ] 36396 of 50000 complete in 16.5 sec"
       ]
      },
      {
       "output_type": "stream",
       "stream": "stdout",
       "text": [
        "\r",
        " [-----------------75%--------          ] 37509 of 50000 complete in 17.0 sec"
       ]
      },
      {
       "output_type": "stream",
       "stream": "stdout",
       "text": [
        "\r",
        " [-----------------77%---------         ] 38623 of 50000 complete in 17.5 sec"
       ]
      },
      {
       "output_type": "stream",
       "stream": "stdout",
       "text": [
        "\r",
        " [-----------------79%----------        ] 39740 of 50000 complete in 18.0 sec"
       ]
      },
      {
       "output_type": "stream",
       "stream": "stdout",
       "text": [
        "\r",
        " [-----------------81%-----------       ] 40847 of 50000 complete in 18.5 sec"
       ]
      },
      {
       "output_type": "stream",
       "stream": "stdout",
       "text": [
        "\r",
        " [-----------------83%-----------       ] 41966 of 50000 complete in 19.0 sec"
       ]
      },
      {
       "output_type": "stream",
       "stream": "stdout",
       "text": [
        "\r",
        " [-----------------86%------------      ] 43080 of 50000 complete in 19.5 sec"
       ]
      },
      {
       "output_type": "stream",
       "stream": "stdout",
       "text": [
        "\r",
        " [-----------------88%-------------     ] 44197 of 50000 complete in 20.0 sec"
       ]
      },
      {
       "output_type": "stream",
       "stream": "stdout",
       "text": [
        "\r",
        " [-----------------90%--------------    ] 45314 of 50000 complete in 20.5 sec"
       ]
      },
      {
       "output_type": "stream",
       "stream": "stdout",
       "text": [
        "\r",
        " [-----------------92%---------------   ] 46429 of 50000 complete in 21.0 sec"
       ]
      },
      {
       "output_type": "stream",
       "stream": "stdout",
       "text": [
        "\r",
        " [-----------------95%----------------  ] 47542 of 50000 complete in 21.5 sec"
       ]
      },
      {
       "output_type": "stream",
       "stream": "stdout",
       "text": [
        "\r",
        " [-----------------97%----------------  ] 48663 of 50000 complete in 22.0 sec"
       ]
      },
      {
       "output_type": "stream",
       "stream": "stdout",
       "text": [
        "\r",
        " [-----------------99%----------------- ] 49782 of 50000 complete in 22.5 sec"
       ]
      },
      {
       "output_type": "stream",
       "stream": "stdout",
       "text": [
        "\r",
        " [-----------------100%-----------------] 50000 of 50000 complete in 22.6 sec"
       ]
      }
     ],
     "prompt_number": 70
    },
    {
     "cell_type": "code",
     "collapsed": false,
     "input": [
      "# This is the pre-model stats \n",
      "# fig = plt.figure()\n",
      "# ax1 = fig.add_subplot(2,2,1)\n",
      "#ax1.hist(taus.value[:], bins=50)\n",
      "#dir(mcmc.trace.im_self)\n",
      "#mcmc.trace.im_self.summary()\n",
      "\n",
      "plt.plot(hhat)"
     ],
     "language": "python",
     "metadata": {},
     "outputs": [
      {
       "metadata": {},
       "output_type": "pyout",
       "prompt_number": 64,
       "text": [
        "[<matplotlib.lines.Line2D at 0x7f521368ad10>]"
       ]
      },
      {
       "metadata": {},
       "output_type": "display_data",
       "png": "[encoded data removed]",
       "text": [
        "<matplotlib.figure.Figure at 0x7f525be5d8d0>"
       ]
      }
     ],
     "prompt_number": 64
    },
    {
     "cell_type": "code",
     "collapsed": false,
     "input": [
      "center_trace = mcmc.trace(\"centers\")[:]\n",
      "plt.hist(center_trace[:,0], bins=50, histtype='stepfilled',\n",
      "         color='blue', alpha=0.7)\n",
      "plt.hist(center_trace[:,1], bins=50, histtype='stepfilled',\n",
      "         color='red', alpha=0.7)"
     ],
     "language": "python",
     "metadata": {},
     "outputs": [
      {
       "metadata": {},
       "output_type": "pyout",
       "prompt_number": 155,
       "text": [
        "(array([  207.,     0.,     0.,     0.,     0.,     0.,    59.,    10.,\n",
        "        1963.,   204.,   381.,    97.,   308.,   625.,   314.,   395.,\n",
        "         496.,   663.,   558.,   444.,   349.,   377.,   351.,   379.,\n",
        "         293.,   393.,   463.,   647.,   828.,   776.,   600.,   681.,\n",
        "        1139.,  1767.,  2372.,  2910.,  3648.,  4801.,  5813.,  5160.,\n",
        "        3308.,  1812.,  1385.,  1085.,  1086.,   547.,   215.,    61.,\n",
        "          16.,    14.]),\n",
        " array([ 130.13366527,  131.59933539,  133.06500552,  134.53067564,\n",
        "        135.99634576,  137.46201588,  138.927686  ,  140.39335612,\n",
        "        141.85902625,  143.32469637,  144.79036649,  146.25603661,\n",
        "        147.72170673,  149.18737685,  150.65304698,  152.1187171 ,\n",
        "        153.58438722,  155.05005734,  156.51572746,  157.98139758,\n",
        "        159.44706771,  160.91273783,  162.37840795,  163.84407807,\n",
        "        165.30974819,  166.77541831,  168.24108844,  169.70675856,\n",
        "        171.17242868,  172.6380988 ,  174.10376892,  175.56943904,\n",
        "        177.03510917,  178.50077929,  179.96644941,  181.43211953,\n",
        "        182.89778965,  184.36345977,  185.8291299 ,  187.29480002,\n",
        "        188.76047014,  190.22614026,  191.69181038,  193.1574805 ,\n",
        "        194.62315063,  196.08882075,  197.55449087,  199.02016099,\n",
        "        200.48583111,  201.95150123,  203.41717136]),\n",
        " <a list of 1 Patch objects>)"
       ]
      },
      {
       "metadata": {},
       "output_type": "display_data",
       "png": "[encoded data removed]",
       "text": [
        "<matplotlib.figure.Figure at 0x7f5223ee0b90>"
       ]
      }
     ],
     "prompt_number": 155
    },
    {
     "cell_type": "code",
     "collapsed": false,
     "input": [
      "# Fucking nailed it\n",
      "\n",
      "clusts = [center_trace[:,0], center_trace[:,1]]\n",
      "print([np.mean(c) for c in clusts])"
     ],
     "language": "python",
     "metadata": {},
     "outputs": [
      {
       "output_type": "stream",
       "stream": "stdout",
       "text": [
        "[79.794836095404833, 179.2790815714026]\n"
       ]
      }
     ],
     "prompt_number": 74
    },
    {
     "cell_type": "markdown",
     "metadata": {},
     "source": [
      "## Reverse assignment of bursting/spiking activity\n",
      "\n",
      "Now for each inteval and its associated spikes and times, we can assign it to either bursting or spiking (with almost perfect discriminability).\n",
      "\n",
      "Simple time-based association"
     ]
    },
    {
     "cell_type": "code",
     "collapsed": false,
     "input": [
      "# Assign a delta_tms to burst or tonic cluster\n",
      "def assignTms(clusts, tms):\n",
      "    assns = [abs(np.mean(clusts[c])-tms) for c in range(len(clusts))]\n",
      "    #for c in clusts:\n",
      "    #    cp = np.array([i for i in c])\n",
      "    #    fw = float(len([i for i in cp if i < tms]))/len(cp)\n",
      "    #    bw = float(len([i for i in cp if i > tms]))/len(cp)\n",
      "    #    assns.append(np.mean([fw,bw]))\n",
      "    # Whoever is closer to 0.5 wins\n",
      "    return assns.index(min(assns))\n"
     ],
     "language": "python",
     "metadata": {},
     "outputs": [],
     "prompt_number": 96
    },
    {
     "cell_type": "code",
     "collapsed": false,
     "input": [
      "# Iterate through spike times, assign each to burst or tonic\n",
      "print(len(f.times.dropna()), len(f.intervals.dropna()))\n",
      "# Since len(ISI) != len(times) -1, must make our own ISIs (on the fly)\n",
      "clust_tms = [[] for c in clusts]\n",
      "\n",
      "tms_clean = f.times.dropna()\n",
      "for t in range(len(tms_clean)-1):\n",
      "    t_clust = assignTms(clusts, tms_clean[t+1]-tms_clean[t])\n",
      "    clust_tms[t_clust].append(tms_clean[t])\n",
      "\n",
      "# Show the times\n",
      "for c in clust_tms:\n",
      "    plt.plot(c, [(clust_tms.index(c)+1) for i in c], \n",
      "             '|', color=['blue', 'red'][clust_tms.index(c)])\n",
      "plt.ylim([0,3])"
     ],
     "language": "python",
     "metadata": {},
     "outputs": [
      {
       "output_type": "stream",
       "stream": "stdout",
       "text": [
        "(1899, 1634)\n"
       ]
      },
      {
       "metadata": {},
       "output_type": "pyout",
       "prompt_number": 156,
       "text": [
        "(0, 3)"
       ]
      },
      {
       "metadata": {},
       "output_type": "display_data",
       "png": "[encoded data removed]",
       "text": [
        "<matplotlib.figure.Figure at 0x7f525bc7aed0>"
       ]
      }
     ],
     "prompt_number": 156
    },
    {
     "cell_type": "code",
     "collapsed": false,
     "input": [
      "# Add contiguous times together to calculate %-ages\n",
      "# Use 2-s as the period of silence (??) 'bouts'\n",
      "def timeInClusters(clust_tms, thresh=2000.):\n",
      "    cluster_bouts = [ [] for c in clust_tms ]\n",
      "    for c in range(len(clust_tms)): # Each new cluster\n",
      "        on = False\n",
      "        for t in range(len(clust_tms[c])-1):\n",
      "            if clust_tms[c][t+1] - clust_tms[c][t] > thresh: # 2-s threshold\n",
      "                if on: # If this is a bout, end it\n",
      "                    cluster_bouts[c].append(clust_tms[c][t])\n",
      "                    on = False\n",
      "                # Else, ignore it (too sparse for tonic)\n",
      "            else: # Close enough to be a continuation or new bout\n",
      "                if on is False: # Not an active bout, so start it\n",
      "                    cluster_bouts[c].append(clust_tms[c][t])\n",
      "                    on = True\n",
      "                # Else, ignore it (continue the bout)\n",
      "        if on: # If a bout is active at the end, end it with\n",
      "            cluster_bouts[c].append(clust_tms[c][-1])\n",
      "    \n",
      "    print(cluster_bouts)\n",
      "    # Calculate time spent in each cluster (assumes unit is ms)\n",
      "    timeIn = [sum([cluster_bouts[c][2*i+1]-cluster_bouts[c][2*i]\n",
      "                   for i in range(len(cluster_bouts[c])/2)])\n",
      "              for c in range(len(cluster_bouts))]\n",
      "    percentIn = [i/max([max(cl) for cl in clust_tms]) for i in timeIn]\n",
      "    for t in timeIn: # Dependent on dT\n",
      "        print('Time (percent) spent in cluster %i: %.3f s (%.2f)'\n",
      "              %(timeIn.index(t), t/10000., percentIn[timeIn.index(t)])) \n",
      "        \n",
      "    return timeIn, cluster_bouts\n"
     ],
     "language": "python",
     "metadata": {},
     "outputs": [],
     "prompt_number": 151
    },
    {
     "cell_type": "code",
     "collapsed": false,
     "input": [
      "tIn, cBouts = timeInClusters(clust_tms)\n",
      "\n",
      "# Show the times and durations of the bouts\n",
      "for b in range(len(cBouts[0])/2):\n",
      "    plt.plot([cBouts[0][b*2], cBouts[0][b*2+1]], [1,1], \n",
      "             lw=5, color='blue')\n",
      "for b in range(len(cBouts[1])/2):\n",
      "    plt.plot([cBouts[1][b*2], cBouts[1][b*2+1]], [2,2], \n",
      "             lw=5, color='red')\n",
      "plt.ylim([0,3])"
     ],
     "language": "python",
     "metadata": {},
     "outputs": [
      {
       "output_type": "stream",
       "stream": "stdout",
       "text": [
        "[[3573.5563000000002, 7897.8500000000004, 215052.7769, 215540.70689999999, 264861.27340000001, 265812.18829999998, 297653.9179, 372733.74790000002], [1253.127, 15062.544400000001, 214233.2818, 220925.98259999999, 264723.46629999997, 307849.68459999998, 376057.62719999999, 509550.69689999998]]\n",
        "Time (percent) spent in cluster 0: 8.084 s (0.16)\n",
        "Time (percent) spent in cluster 1: 19.712 s (0.39)\n"
       ]
      },
      {
       "metadata": {},
       "output_type": "pyout",
       "prompt_number": 152,
       "text": [
        "(0, 3)"
       ]
      },
      {
       "metadata": {},
       "output_type": "display_data",
       "png": "[encoded data removed]",
       "text": [
        "<matplotlib.figure.Figure at 0x7f5213541310>"
       ]
      }
     ],
     "prompt_number": 152
    },
    {
     "cell_type": "code",
     "collapsed": false,
     "input": [
      "# This does a decent job of determining bouts\n",
      "# Will compare it to "
     ],
     "language": "python",
     "metadata": {},
     "outputs": [
      {
       "metadata": {},
       "output_type": "pyout",
       "prompt_number": 143,
       "text": [
        "509550.69689999998"
       ]
      }
     ],
     "prompt_number": 143
    },
    {
     "cell_type": "code",
     "collapsed": false,
     "input": [],
     "language": "python",
     "metadata": {},
     "outputs": []
    },
    {
     "cell_type": "code",
     "collapsed": false,
     "input": [
      "# Explore the clusters, as a function\n",
      "\"\"\"\n",
      "def exploreTrace(mcmc):\n",
      "    plt.figure(figsize=(11., 4.))\n",
      "    std_trace = mcmc.trace('stds')[:]\n",
      "    \n",
      "    things = [mcmc.trace('centers', chain=0), std_trace[:,0],\n",
      "              mcmc.trace('centers', chain=1), std_trace[:,1]]\n",
      "    cols = ['red', 'red', 'blue', 'blue']\n",
      "    \n",
      "    for i in range(4):\n",
      "        plt.subplot(2, 2, i+1)\n",
      "        plt.hist(thing[i], color=cols[i], bins=30,\n",
      "                 histtype='stepfilled')\n",
      "    plt.tight_layout()\n",
      "    return\n",
      "\"\"\"\n",
      "\n",
      "#plt.hist(mcmc.trace('centers', chain=0))\n",
      "\n",
      "center_trace = mcmc.trace(\"centers\")[:]\n",
      "#center1_trace = mcmc.trace(\"centers\", chain=1)[:]"
     ],
     "language": "python",
     "metadata": {},
     "outputs": [],
     "prompt_number": 20
    },
    {
     "cell_type": "code",
     "collapsed": false,
     "input": [
      "center_trace.shape\n",
      "print(np.mean(center0_trace[:,0]), np.mean(center0_trace[:,1]))\n",
      "plt.hist(center0_trace[:,0], bins=30, color='blue', \n",
      "         histtype='stepfilled')\n",
      "# print(np.mean(center1_trace[:,0]), np.mean(center1_trace[:,1]))"
     ],
     "language": "python",
     "metadata": {},
     "outputs": [
      {
       "output_type": "stream",
       "stream": "stdout",
       "text": [
        "(21.001844797260585, 49.603721968953998)\n"
       ]
      },
      {
       "metadata": {},
       "output_type": "pyout",
       "prompt_number": 22,
       "text": [
        "(array([  1.00000000e+00,   0.00000000e+00,   0.00000000e+00,\n",
        "         0.00000000e+00,   3.12000000e+02,   4.94000000e+02,\n",
        "         2.82600000e+03,   9.32300000e+03,   1.83250000e+04,\n",
        "         1.39580000e+04,   4.11500000e+03,   5.96000000e+02,\n",
        "         2.80000000e+01,   0.00000000e+00,   0.00000000e+00,\n",
        "         0.00000000e+00,   1.00000000e+00,   0.00000000e+00,\n",
        "         7.00000000e+00,   3.00000000e+00,   0.00000000e+00,\n",
        "         0.00000000e+00,   0.00000000e+00,   0.00000000e+00,\n",
        "         0.00000000e+00,   0.00000000e+00,   0.00000000e+00,\n",
        "         0.00000000e+00,   0.00000000e+00,   1.10000000e+01]),\n",
        " array([  7.47607066,   9.04344155,  10.61081245,  12.17818334,\n",
        "        13.74555424,  15.31292513,  16.88029602,  18.44766692,\n",
        "        20.01503781,  21.5824087 ,  23.1497796 ,  24.71715049,\n",
        "        26.28452139,  27.85189228,  29.41926317,  30.98663407,\n",
        "        32.55400496,  34.12137586,  35.68874675,  37.25611764,\n",
        "        38.82348854,  40.39085943,  41.95823032,  43.52560122,\n",
        "        45.09297211,  46.66034301,  48.2277139 ,  49.79508479,\n",
        "        51.36245569,  52.92982658,  54.49719747]),\n",
        " <a list of 1 Patch objects>)"
       ]
      },
      {
       "metadata": {},
       "output_type": "display_data",
       "png": "[encoded data removed]",
       "text": [
        "<matplotlib.figure.Figure at 0x7f525a792750>"
       ]
      }
     ],
     "prompt_number": 22
    },
    {
     "cell_type": "code",
     "collapsed": false,
     "input": [
      "plt.hist(center0_trace[:,1], bins=30, color='red',\n",
      "         histtype='stepfilled')"
     ],
     "language": "python",
     "metadata": {},
     "outputs": [
      {
       "metadata": {},
       "output_type": "pyout",
       "prompt_number": 23,
       "text": [
        "(array([  1.71000000e+02,   4.35000000e+02,   1.31580000e+04,\n",
        "         3.04220000e+04,   5.75400000e+03,   4.00000000e+01,\n",
        "         0.00000000e+00,   0.00000000e+00,   0.00000000e+00,\n",
        "         0.00000000e+00,   6.00000000e+00,   0.00000000e+00,\n",
        "         0.00000000e+00,   0.00000000e+00,   0.00000000e+00,\n",
        "         5.00000000e+00,   0.00000000e+00,   0.00000000e+00,\n",
        "         0.00000000e+00,   1.00000000e+00,   0.00000000e+00,\n",
        "         0.00000000e+00,   0.00000000e+00,   1.00000000e+00,\n",
        "         0.00000000e+00,   0.00000000e+00,   0.00000000e+00,\n",
        "         0.00000000e+00,   0.00000000e+00,   7.00000000e+00]),\n",
        " array([  14.10181968,   24.76491358,   35.42800748,   46.09110138,\n",
        "         56.75419528,   67.41728919,   78.08038309,   88.74347699,\n",
        "         99.40657089,  110.06966479,  120.7327587 ,  131.3958526 ,\n",
        "        142.0589465 ,  152.7220404 ,  163.3851343 ,  174.04822821,\n",
        "        184.71132211,  195.37441601,  206.03750991,  216.70060381,\n",
        "        227.36369772,  238.02679162,  248.68988552,  259.35297942,\n",
        "        270.01607333,  280.67916723,  291.34226113,  302.00535503,\n",
        "        312.66844893,  323.33154284,  333.99463674]),\n",
        " <a list of 1 Patch objects>)"
       ]
      },
      {
       "metadata": {},
       "output_type": "display_data",
       "png": "[encoded data removed]",
       "text": [
        "<matplotlib.figure.Figure at 0x7f525a93cd50>"
       ]
      }
     ],
     "prompt_number": 23
    },
    {
     "cell_type": "code",
     "collapsed": false,
     "input": [
      "list(hist).index(hist.max())"
     ],
     "language": "python",
     "metadata": {},
     "outputs": [
      {
       "metadata": {},
       "output_type": "pyout",
       "prompt_number": 28,
       "text": [
        "7"
       ]
      }
     ],
     "prompt_number": 28
    },
    {
     "cell_type": "code",
     "collapsed": false,
     "input": [
      "np.diff(hist)[:10]\n"
     ],
     "language": "python",
     "metadata": {},
     "outputs": [
      {
       "metadata": {},
       "output_type": "pyout",
       "prompt_number": 29,
       "text": [
        "array([  -2,    0,    0,    0,   13,  224,  241, -337, -124,  -11])"
       ]
      }
     ],
     "prompt_number": 29
    },
    {
     "cell_type": "code",
     "collapsed": false,
     "input": [],
     "language": "python",
     "metadata": {},
     "outputs": []
    }
   ],
   "metadata": {}
  }
 ]
}